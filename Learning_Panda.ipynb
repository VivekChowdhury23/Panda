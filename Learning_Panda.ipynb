{
  "nbformat": 4,
  "nbformat_minor": 0,
  "metadata": {
    "colab": {
      "name": "Learning_Panda.ipynb",
      "provenance": [],
      "collapsed_sections": []
    },
    "kernelspec": {
      "name": "python3",
      "display_name": "Python 3"
    }
  },
  "cells": [
    {
      "cell_type": "markdown",
      "metadata": {
        "id": "BWH1tn-CqFvX"
      },
      "source": [
        "# Learning Panda"
      ]
    },
    {
      "cell_type": "markdown",
      "metadata": {
        "id": "pOngHZAAqaIB"
      },
      "source": [
        "### Getting Started Documentation from : https://pandas.pydata.org/docs/getting_started/overview.html\r\n",
        "\r\n",
        "### Useful video: https://www.youtube.com/watch?v=vmEHCJofslg"
      ]
    },
    {
      "cell_type": "code",
      "metadata": {
        "id": "0GZJaKvirG-H"
      },
      "source": [
        "import pandas as pd\r\n",
        "import numpy as np\r\n",
        "\r\n",
        "data = pd.read_csv('Video_Games_Sales_as_at_22_Dec_2016.csv') #to read a csv\r\n",
        "\r\n",
        "# data = pd.read_excel('filename.xlsx')\r\n",
        "# data = pd.read_csv('filename.txt', delimiter='\\t') specify a delimiter here in case of a text file with delimiter"
      ],
      "execution_count": 110,
      "outputs": []
    },
    {
      "cell_type": "markdown",
      "metadata": {
        "id": "GbYC6IFPufOk"
      },
      "source": [
        "#### To read only the first 5 records, to quicky have a feel of the data in the dataset"
      ]
    },
    {
      "cell_type": "code",
      "metadata": {
        "id": "cw1SkWjzulXn"
      },
      "source": [
        "f5 = data.head(6) #by default it displays 5, but we can define a number\r\n",
        "f5"
      ],
      "execution_count": null,
      "outputs": []
    },
    {
      "cell_type": "markdown",
      "metadata": {
        "id": "8bqSm4EBvgjr"
      },
      "source": [
        "#### To read only the last 5 records"
      ]
    },
    {
      "cell_type": "code",
      "metadata": {
        "id": "3Ts14gANvjX3"
      },
      "source": [
        "l5 = data.tail(3) #by default it displays 5, but we can define a number\r\n",
        "l5"
      ],
      "execution_count": null,
      "outputs": []
    },
    {
      "cell_type": "markdown",
      "metadata": {
        "id": "G-I6YSxD06zt"
      },
      "source": [
        "#### Some common functions"
      ]
    },
    {
      "cell_type": "markdown",
      "metadata": {
        "id": "Ulf09eku2mCV"
      },
      "source": [
        "#### To get the headers"
      ]
    },
    {
      "cell_type": "code",
      "metadata": {
        "id": "-WQqUw-92vlV"
      },
      "source": [
        "##To get the headers\r\n",
        "headers = data.columns\r\n",
        "print(headers)"
      ],
      "execution_count": null,
      "outputs": []
    },
    {
      "cell_type": "markdown",
      "metadata": {
        "id": "_WWrxTVC2q6x"
      },
      "source": [
        "#### To read each columns"
      ]
    },
    {
      "cell_type": "code",
      "metadata": {
        "id": "hcz3zsqw1Dz6"
      },
      "source": [
        "##To read each column\r\n",
        "cr5 = data['Platform'][0:5]\r\n",
        "cs = data[['Platform','Genre','Publisher']]\r\n",
        "\r\n",
        "print(cs)"
      ],
      "execution_count": null,
      "outputs": []
    },
    {
      "cell_type": "markdown",
      "metadata": {
        "id": "Z3Fo8F5lvr5p"
      },
      "source": [
        "#### To print each row"
      ]
    },
    {
      "cell_type": "code",
      "metadata": {
        "id": "fv5UmiiH3N8Y"
      },
      "source": [
        "r3 = data.iloc[0:4] #the number after : is exlusive \r\n",
        "print(r3)"
      ],
      "execution_count": null,
      "outputs": []
    },
    {
      "cell_type": "markdown",
      "metadata": {
        "id": "XajAHKJ34B7c"
      },
      "source": [
        "#### Reading a specific location"
      ]
    },
    {
      "cell_type": "code",
      "metadata": {
        "id": "06T-otu14FLC"
      },
      "source": [
        "location = data.iloc[2,0]\r\n",
        "print(location)"
      ],
      "execution_count": null,
      "outputs": []
    },
    {
      "cell_type": "markdown",
      "metadata": {
        "id": "Flr71mYK4TfX"
      },
      "source": [
        "#### Read some rows with itterow and for loop"
      ]
    },
    {
      "cell_type": "code",
      "metadata": {
        "id": "lAiVBYDD4hzf"
      },
      "source": [
        "for index, rows in data.iterrows():\r\n",
        "  print(index,rows['Genre'])"
      ],
      "execution_count": null,
      "outputs": []
    },
    {
      "cell_type": "markdown",
      "metadata": {
        "id": "GV8seV8w58S4"
      },
      "source": [
        "#### Using the loc function to get specific data"
      ]
    },
    {
      "cell_type": "code",
      "metadata": {
        "id": "KQ_yD3Hv6B8v"
      },
      "source": [
        "print(data.loc[data['Platform'] == 'Wii'])"
      ],
      "execution_count": null,
      "outputs": []
    },
    {
      "cell_type": "markdown",
      "metadata": {
        "id": "epGcLaPm6n8k"
      },
      "source": [
        "#### To get the statistical information of some columns"
      ]
    },
    {
      "cell_type": "code",
      "metadata": {
        "id": "fvNwtEhD6tEC"
      },
      "source": [
        "want = data[['Platform','Publisher','Genre','Global_Sales']]\r\n",
        "want.describe()"
      ],
      "execution_count": null,
      "outputs": []
    },
    {
      "cell_type": "markdown",
      "metadata": {
        "id": "S15q_1al7_Lo"
      },
      "source": [
        "#### Sorting our data"
      ]
    },
    {
      "cell_type": "code",
      "metadata": {
        "id": "et2TNdIE8Bk5"
      },
      "source": [
        "have = data[['Name','Platform','Year_of_Release']]\r\n",
        "data.sort_values(['Name','Platform','Year_of_Release'], ascending=[0,1,1]) #0=descending and 1=ascending"
      ],
      "execution_count": null,
      "outputs": []
    },
    {
      "cell_type": "markdown",
      "metadata": {
        "id": "Sm0UPKhH-kB5"
      },
      "source": [
        "### Making Changes to our data"
      ]
    },
    {
      "cell_type": "markdown",
      "metadata": {
        "id": "9AatCAeT--aJ"
      },
      "source": [
        "#### Creating a column"
      ]
    },
    {
      "cell_type": "code",
      "metadata": {
        "id": "BBnCA90v_DIX"
      },
      "source": [
        "data.head()"
      ],
      "execution_count": null,
      "outputs": []
    },
    {
      "cell_type": "code",
      "metadata": {
        "id": "Yci8adDG_gVG"
      },
      "source": [
        "data[\"Total_Sales\"] = data[\"NA_Sales\"] + data[\"EU_Sales\"] + data[\"JP_Sales\"] + data[\"Other_Sales\"] + data[\"Global_Sales\"]\r\n",
        "data[\"Total_Ratings\"] = data[\"Critic_Score\"] / data[\"Critic_Count\"]\r\n",
        "data.head()"
      ],
      "execution_count": null,
      "outputs": []
    },
    {
      "cell_type": "code",
      "metadata": {
        "colab": {
          "base_uri": "https://localhost:8080/",
          "height": 282
        },
        "id": "FXj6cAPnBl8T",
        "outputId": "1cf89586-13fd-4c25-f957-64f1d58ed06f"
      },
      "source": [
        "#Another way of doing the total_sales\r\n",
        "data[\"Total_Sales\"] = data.iloc[:,5:10].sum(axis=1)\r\n",
        "data.head()"
      ],
      "execution_count": 126,
      "outputs": [
        {
          "output_type": "execute_result",
          "data": {
            "text/html": [
              "<div>\n",
              "<style scoped>\n",
              "    .dataframe tbody tr th:only-of-type {\n",
              "        vertical-align: middle;\n",
              "    }\n",
              "\n",
              "    .dataframe tbody tr th {\n",
              "        vertical-align: top;\n",
              "    }\n",
              "\n",
              "    .dataframe thead th {\n",
              "        text-align: right;\n",
              "    }\n",
              "</style>\n",
              "<table border=\"1\" class=\"dataframe\">\n",
              "  <thead>\n",
              "    <tr style=\"text-align: right;\">\n",
              "      <th></th>\n",
              "      <th>Name</th>\n",
              "      <th>Platform</th>\n",
              "      <th>Year_of_Release</th>\n",
              "      <th>Genre</th>\n",
              "      <th>Publisher</th>\n",
              "      <th>NA_Sales</th>\n",
              "      <th>EU_Sales</th>\n",
              "      <th>JP_Sales</th>\n",
              "      <th>Other_Sales</th>\n",
              "      <th>Global_Sales</th>\n",
              "      <th>Critic_Score</th>\n",
              "      <th>Critic_Count</th>\n",
              "      <th>User_Score</th>\n",
              "      <th>User_Count</th>\n",
              "      <th>Developer</th>\n",
              "      <th>Rating</th>\n",
              "      <th>Total_Sales</th>\n",
              "    </tr>\n",
              "  </thead>\n",
              "  <tbody>\n",
              "    <tr>\n",
              "      <th>0</th>\n",
              "      <td>Wii Sports</td>\n",
              "      <td>Wii</td>\n",
              "      <td>2006.0</td>\n",
              "      <td>Sports</td>\n",
              "      <td>Nintendo</td>\n",
              "      <td>41.36</td>\n",
              "      <td>28.96</td>\n",
              "      <td>3.77</td>\n",
              "      <td>8.45</td>\n",
              "      <td>82.53</td>\n",
              "      <td>76.0</td>\n",
              "      <td>51.0</td>\n",
              "      <td>8</td>\n",
              "      <td>322.0</td>\n",
              "      <td>Nintendo</td>\n",
              "      <td>E</td>\n",
              "      <td>165.07</td>\n",
              "    </tr>\n",
              "    <tr>\n",
              "      <th>1</th>\n",
              "      <td>Super Mario Bros.</td>\n",
              "      <td>NES</td>\n",
              "      <td>1985.0</td>\n",
              "      <td>Platform</td>\n",
              "      <td>Nintendo</td>\n",
              "      <td>29.08</td>\n",
              "      <td>3.58</td>\n",
              "      <td>6.81</td>\n",
              "      <td>0.77</td>\n",
              "      <td>40.24</td>\n",
              "      <td>NaN</td>\n",
              "      <td>NaN</td>\n",
              "      <td>NaN</td>\n",
              "      <td>NaN</td>\n",
              "      <td>NaN</td>\n",
              "      <td>NaN</td>\n",
              "      <td>80.48</td>\n",
              "    </tr>\n",
              "    <tr>\n",
              "      <th>2</th>\n",
              "      <td>Mario Kart Wii</td>\n",
              "      <td>Wii</td>\n",
              "      <td>2008.0</td>\n",
              "      <td>Racing</td>\n",
              "      <td>Nintendo</td>\n",
              "      <td>15.68</td>\n",
              "      <td>12.76</td>\n",
              "      <td>3.79</td>\n",
              "      <td>3.29</td>\n",
              "      <td>35.52</td>\n",
              "      <td>82.0</td>\n",
              "      <td>73.0</td>\n",
              "      <td>8.3</td>\n",
              "      <td>709.0</td>\n",
              "      <td>Nintendo</td>\n",
              "      <td>E</td>\n",
              "      <td>71.04</td>\n",
              "    </tr>\n",
              "    <tr>\n",
              "      <th>3</th>\n",
              "      <td>Wii Sports Resort</td>\n",
              "      <td>Wii</td>\n",
              "      <td>2009.0</td>\n",
              "      <td>Sports</td>\n",
              "      <td>Nintendo</td>\n",
              "      <td>15.61</td>\n",
              "      <td>10.93</td>\n",
              "      <td>3.28</td>\n",
              "      <td>2.95</td>\n",
              "      <td>32.77</td>\n",
              "      <td>80.0</td>\n",
              "      <td>73.0</td>\n",
              "      <td>8</td>\n",
              "      <td>192.0</td>\n",
              "      <td>Nintendo</td>\n",
              "      <td>E</td>\n",
              "      <td>65.54</td>\n",
              "    </tr>\n",
              "    <tr>\n",
              "      <th>4</th>\n",
              "      <td>Pokemon Red/Pokemon Blue</td>\n",
              "      <td>GB</td>\n",
              "      <td>1996.0</td>\n",
              "      <td>Role-Playing</td>\n",
              "      <td>Nintendo</td>\n",
              "      <td>11.27</td>\n",
              "      <td>8.89</td>\n",
              "      <td>10.22</td>\n",
              "      <td>1.00</td>\n",
              "      <td>31.37</td>\n",
              "      <td>NaN</td>\n",
              "      <td>NaN</td>\n",
              "      <td>NaN</td>\n",
              "      <td>NaN</td>\n",
              "      <td>NaN</td>\n",
              "      <td>NaN</td>\n",
              "      <td>62.75</td>\n",
              "    </tr>\n",
              "  </tbody>\n",
              "</table>\n",
              "</div>"
            ],
            "text/plain": [
              "                       Name Platform  ...  Rating Total_Sales\n",
              "0                Wii Sports      Wii  ...       E      165.07\n",
              "1         Super Mario Bros.      NES  ...     NaN       80.48\n",
              "2            Mario Kart Wii      Wii  ...       E       71.04\n",
              "3         Wii Sports Resort      Wii  ...       E       65.54\n",
              "4  Pokemon Red/Pokemon Blue       GB  ...     NaN       62.75\n",
              "\n",
              "[5 rows x 17 columns]"
            ]
          },
          "metadata": {
            "tags": []
          },
          "execution_count": 126
        }
      ]
    },
    {
      "cell_type": "markdown",
      "metadata": {
        "id": "dGJVWcrDBUk1"
      },
      "source": [
        "#### For dropping a column"
      ]
    },
    {
      "cell_type": "code",
      "metadata": {
        "id": "7AgkmLnsBW_0"
      },
      "source": [
        "#For dropping a column: \r\n",
        "data = data.drop(columns=[\"Total_Sales\"])\r\n",
        "data.head()"
      ],
      "execution_count": null,
      "outputs": []
    },
    {
      "cell_type": "markdown",
      "metadata": {
        "id": "mhlMJql5DAnG"
      },
      "source": [
        "#### Re-arranging the columns "
      ]
    },
    {
      "cell_type": "code",
      "metadata": {
        "id": "az4TZ69yDD_c"
      },
      "source": [
        "cols = list(data.columns.values)\r\n",
        "data = data[cols[0:2] + [cols[-1]]]\r\n",
        "data.head(11)"
      ],
      "execution_count": null,
      "outputs": []
    },
    {
      "cell_type": "markdown",
      "metadata": {
        "id": "uSxaGK7FGLpi"
      },
      "source": [
        "#### For filtering of data, we can use data.loc"
      ]
    },
    {
      "cell_type": "code",
      "metadata": {
        "id": "fv1Y7wrXGVIM"
      },
      "source": [
        "top_games = data.loc[data['Total_Ratings'] > 20]  #conditional statements AND=& , OR=| and seperate multiple condition with parenthesis\r\n",
        "top_games = top_games.reset_index(drop=True) #To get rid of the old index and assign a fresh new index, we can also use inplace=True to conserve some memory\r\n",
        "top_games.head()"
      ],
      "execution_count": null,
      "outputs": []
    },
    {
      "cell_type": "markdown",
      "metadata": {
        "id": "wrSBXFcVJ37M"
      },
      "source": [
        "#### To remove certain values from a column"
      ]
    },
    {
      "cell_type": "code",
      "metadata": {
        "id": "zhD6OwMbJ9IR"
      },
      "source": [
        "dontneed = data.loc[~data['Platform'].str.contains('Wii')]\r\n",
        "dontneed.head()"
      ],
      "execution_count": null,
      "outputs": []
    },
    {
      "cell_type": "markdown",
      "metadata": {
        "id": "S4et3heqKyWe"
      },
      "source": [
        "#### To use regex=True"
      ]
    },
    {
      "cell_type": "code",
      "metadata": {
        "id": "b2EAewYBK1ZL"
      },
      "source": [
        "need = data.loc[data['Platform'].str.contains('PS3|PS4', regex=True)] #use flags=re.I to ignore the casing (upper or lower)\r\n",
        "need.head()"
      ],
      "execution_count": null,
      "outputs": []
    },
    {
      "cell_type": "code",
      "metadata": {
        "id": "dDwXXRbJMDx1"
      },
      "source": [
        "#To get names begining with certain letter or words\r\n",
        "need2 = data.loc[data['Name'].str.contains('^Poke[a-z]*', na=False, regex=True)] #use na=False to ignore the NaN values\r\n",
        "need2.head()"
      ],
      "execution_count": null,
      "outputs": []
    },
    {
      "cell_type": "markdown",
      "metadata": {
        "id": "NneV6zuAOsK3"
      },
      "source": [
        "#### Conditional Changes"
      ]
    },
    {
      "cell_type": "code",
      "metadata": {
        "id": "clabR-26OuQ7"
      },
      "source": [
        "#Changing the values in a column\r\n",
        "change = data.loc[data['Name'].str.contains('^Poke[a-z]*', na=False, regex=True)]\r\n",
        "change.loc[change['Publisher'] == 'Nintendo', 'Publisher'] = 'VBA'\r\n",
        "change"
      ],
      "execution_count": null,
      "outputs": []
    },
    {
      "cell_type": "markdown",
      "metadata": {
        "id": "JnztikgLSCYS"
      },
      "source": [
        "#### Aggregate Statistical Analysis"
      ]
    },
    {
      "cell_type": "code",
      "metadata": {
        "colab": {
          "base_uri": "https://localhost:8080/",
          "height": 282
        },
        "id": "YBobRDoYS9Iw",
        "outputId": "e0832fc9-6354-4bd2-d549-2061e1a3b5bd"
      },
      "source": [
        "data.head()"
      ],
      "execution_count": 127,
      "outputs": [
        {
          "output_type": "execute_result",
          "data": {
            "text/html": [
              "<div>\n",
              "<style scoped>\n",
              "    .dataframe tbody tr th:only-of-type {\n",
              "        vertical-align: middle;\n",
              "    }\n",
              "\n",
              "    .dataframe tbody tr th {\n",
              "        vertical-align: top;\n",
              "    }\n",
              "\n",
              "    .dataframe thead th {\n",
              "        text-align: right;\n",
              "    }\n",
              "</style>\n",
              "<table border=\"1\" class=\"dataframe\">\n",
              "  <thead>\n",
              "    <tr style=\"text-align: right;\">\n",
              "      <th></th>\n",
              "      <th>Name</th>\n",
              "      <th>Platform</th>\n",
              "      <th>Year_of_Release</th>\n",
              "      <th>Genre</th>\n",
              "      <th>Publisher</th>\n",
              "      <th>NA_Sales</th>\n",
              "      <th>EU_Sales</th>\n",
              "      <th>JP_Sales</th>\n",
              "      <th>Other_Sales</th>\n",
              "      <th>Global_Sales</th>\n",
              "      <th>Critic_Score</th>\n",
              "      <th>Critic_Count</th>\n",
              "      <th>User_Score</th>\n",
              "      <th>User_Count</th>\n",
              "      <th>Developer</th>\n",
              "      <th>Rating</th>\n",
              "      <th>Total_Sales</th>\n",
              "    </tr>\n",
              "  </thead>\n",
              "  <tbody>\n",
              "    <tr>\n",
              "      <th>0</th>\n",
              "      <td>Wii Sports</td>\n",
              "      <td>Wii</td>\n",
              "      <td>2006.0</td>\n",
              "      <td>Sports</td>\n",
              "      <td>Nintendo</td>\n",
              "      <td>41.36</td>\n",
              "      <td>28.96</td>\n",
              "      <td>3.77</td>\n",
              "      <td>8.45</td>\n",
              "      <td>82.53</td>\n",
              "      <td>76.0</td>\n",
              "      <td>51.0</td>\n",
              "      <td>8</td>\n",
              "      <td>322.0</td>\n",
              "      <td>Nintendo</td>\n",
              "      <td>E</td>\n",
              "      <td>165.07</td>\n",
              "    </tr>\n",
              "    <tr>\n",
              "      <th>1</th>\n",
              "      <td>Super Mario Bros.</td>\n",
              "      <td>NES</td>\n",
              "      <td>1985.0</td>\n",
              "      <td>Platform</td>\n",
              "      <td>Nintendo</td>\n",
              "      <td>29.08</td>\n",
              "      <td>3.58</td>\n",
              "      <td>6.81</td>\n",
              "      <td>0.77</td>\n",
              "      <td>40.24</td>\n",
              "      <td>NaN</td>\n",
              "      <td>NaN</td>\n",
              "      <td>NaN</td>\n",
              "      <td>NaN</td>\n",
              "      <td>NaN</td>\n",
              "      <td>NaN</td>\n",
              "      <td>80.48</td>\n",
              "    </tr>\n",
              "    <tr>\n",
              "      <th>2</th>\n",
              "      <td>Mario Kart Wii</td>\n",
              "      <td>Wii</td>\n",
              "      <td>2008.0</td>\n",
              "      <td>Racing</td>\n",
              "      <td>Nintendo</td>\n",
              "      <td>15.68</td>\n",
              "      <td>12.76</td>\n",
              "      <td>3.79</td>\n",
              "      <td>3.29</td>\n",
              "      <td>35.52</td>\n",
              "      <td>82.0</td>\n",
              "      <td>73.0</td>\n",
              "      <td>8.3</td>\n",
              "      <td>709.0</td>\n",
              "      <td>Nintendo</td>\n",
              "      <td>E</td>\n",
              "      <td>71.04</td>\n",
              "    </tr>\n",
              "    <tr>\n",
              "      <th>3</th>\n",
              "      <td>Wii Sports Resort</td>\n",
              "      <td>Wii</td>\n",
              "      <td>2009.0</td>\n",
              "      <td>Sports</td>\n",
              "      <td>Nintendo</td>\n",
              "      <td>15.61</td>\n",
              "      <td>10.93</td>\n",
              "      <td>3.28</td>\n",
              "      <td>2.95</td>\n",
              "      <td>32.77</td>\n",
              "      <td>80.0</td>\n",
              "      <td>73.0</td>\n",
              "      <td>8</td>\n",
              "      <td>192.0</td>\n",
              "      <td>Nintendo</td>\n",
              "      <td>E</td>\n",
              "      <td>65.54</td>\n",
              "    </tr>\n",
              "    <tr>\n",
              "      <th>4</th>\n",
              "      <td>Pokemon Red/Pokemon Blue</td>\n",
              "      <td>GB</td>\n",
              "      <td>1996.0</td>\n",
              "      <td>Role-Playing</td>\n",
              "      <td>Nintendo</td>\n",
              "      <td>11.27</td>\n",
              "      <td>8.89</td>\n",
              "      <td>10.22</td>\n",
              "      <td>1.00</td>\n",
              "      <td>31.37</td>\n",
              "      <td>NaN</td>\n",
              "      <td>NaN</td>\n",
              "      <td>NaN</td>\n",
              "      <td>NaN</td>\n",
              "      <td>NaN</td>\n",
              "      <td>NaN</td>\n",
              "      <td>62.75</td>\n",
              "    </tr>\n",
              "  </tbody>\n",
              "</table>\n",
              "</div>"
            ],
            "text/plain": [
              "                       Name Platform  ...  Rating Total_Sales\n",
              "0                Wii Sports      Wii  ...       E      165.07\n",
              "1         Super Mario Bros.      NES  ...     NaN       80.48\n",
              "2            Mario Kart Wii      Wii  ...       E       71.04\n",
              "3         Wii Sports Resort      Wii  ...       E       65.54\n",
              "4  Pokemon Red/Pokemon Blue       GB  ...     NaN       62.75\n",
              "\n",
              "[5 rows x 17 columns]"
            ]
          },
          "metadata": {
            "tags": []
          },
          "execution_count": 127
        }
      ]
    },
    {
      "cell_type": "code",
      "metadata": {
        "colab": {
          "base_uri": "https://localhost:8080/",
          "height": 432
        },
        "id": "5tNoX7DxSHa1",
        "outputId": "e03c8b8c-0a34-456f-dc7f-45042fec1629"
      },
      "source": [
        "#We can use sum(), mean() and count()\r\n",
        "\r\n",
        "cols = list(data.columns.values)\r\n",
        "keep = data[[cols[1]] + [cols[3]] + [cols[-1]]]\r\n",
        "\r\n",
        "sum = keep.groupby(['Genre']).sum().sort_values('Total_Sales', ascending=False)\r\n",
        "sum"
      ],
      "execution_count": 150,
      "outputs": [
        {
          "output_type": "execute_result",
          "data": {
            "text/html": [
              "<div>\n",
              "<style scoped>\n",
              "    .dataframe tbody tr th:only-of-type {\n",
              "        vertical-align: middle;\n",
              "    }\n",
              "\n",
              "    .dataframe tbody tr th {\n",
              "        vertical-align: top;\n",
              "    }\n",
              "\n",
              "    .dataframe thead th {\n",
              "        text-align: right;\n",
              "    }\n",
              "</style>\n",
              "<table border=\"1\" class=\"dataframe\">\n",
              "  <thead>\n",
              "    <tr style=\"text-align: right;\">\n",
              "      <th></th>\n",
              "      <th>Total_Sales</th>\n",
              "    </tr>\n",
              "    <tr>\n",
              "      <th>Genre</th>\n",
              "      <th></th>\n",
              "    </tr>\n",
              "  </thead>\n",
              "  <tbody>\n",
              "    <tr>\n",
              "      <th>Action</th>\n",
              "      <td>3489.45</td>\n",
              "    </tr>\n",
              "    <tr>\n",
              "      <th>Sports</th>\n",
              "      <td>2663.27</td>\n",
              "    </tr>\n",
              "    <tr>\n",
              "      <th>Shooter</th>\n",
              "      <td>2105.39</td>\n",
              "    </tr>\n",
              "    <tr>\n",
              "      <th>Role-Playing</th>\n",
              "      <td>1869.01</td>\n",
              "    </tr>\n",
              "    <tr>\n",
              "      <th>Platform</th>\n",
              "      <td>1655.85</td>\n",
              "    </tr>\n",
              "    <tr>\n",
              "      <th>Misc</th>\n",
              "      <td>1605.69</td>\n",
              "    </tr>\n",
              "    <tr>\n",
              "      <th>Racing</th>\n",
              "      <td>1457.57</td>\n",
              "    </tr>\n",
              "    <tr>\n",
              "      <th>Fighting</th>\n",
              "      <td>895.01</td>\n",
              "    </tr>\n",
              "    <tr>\n",
              "      <th>Simulation</th>\n",
              "      <td>780.68</td>\n",
              "    </tr>\n",
              "    <tr>\n",
              "      <th>Puzzle</th>\n",
              "      <td>485.59</td>\n",
              "    </tr>\n",
              "    <tr>\n",
              "      <th>Adventure</th>\n",
              "      <td>475.28</td>\n",
              "    </tr>\n",
              "    <tr>\n",
              "      <th>Strategy</th>\n",
              "      <td>348.73</td>\n",
              "    </tr>\n",
              "  </tbody>\n",
              "</table>\n",
              "</div>"
            ],
            "text/plain": [
              "              Total_Sales\n",
              "Genre                    \n",
              "Action            3489.45\n",
              "Sports            2663.27\n",
              "Shooter           2105.39\n",
              "Role-Playing      1869.01\n",
              "Platform          1655.85\n",
              "Misc              1605.69\n",
              "Racing            1457.57\n",
              "Fighting           895.01\n",
              "Simulation         780.68\n",
              "Puzzle             485.59\n",
              "Adventure          475.28\n",
              "Strategy           348.73"
            ]
          },
          "metadata": {
            "tags": []
          },
          "execution_count": 150
        }
      ]
    }
  ]
}